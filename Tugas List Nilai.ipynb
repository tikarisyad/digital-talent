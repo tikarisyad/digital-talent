{
 "cells": [
  {
   "cell_type": "markdown",
   "metadata": {},
   "source": [
    "# LATIHAN 2 - Tugas List Nilai\n",
    "Diberikan sekumpulan Nilai Random antara 0 sampai dengan 100 sebanyak 250 nilai. Buatlah program untuk melakukan hal berikut:\n",
    "\n",
    "Tampilkan Angka Ganjil dari ke 250 nilai tersebut\n",
    "Tampilkan berapa banyak yang mendapatkan nilai lebih dari 70\n",
    "Tampilkan standar deviasi dari sekumpulan nilai tersebut\n",
    "Tampilkan nilai maksimum dan minimum\n",
    "Tampilkan modus dari sekumpulan nilai tersebut"
   ]
  },
  {
   "cell_type": "code",
   "execution_count": 1,
   "metadata": {},
   "outputs": [
    {
     "name": "stdout",
     "output_type": "stream",
     "text": [
      "[62, 15, 72, 60, 94, 47, 22, 38, 92, 22, 91, 65, 42, 18, 91, 11, 92, 53, 31, 1, 66, 79, 73, 68, 50, 65, 63, 94, 85, 54, 92, 33, 28, 34, 61, 71, 81, 75, 13, 96, 31, 51, 29, 72, 88, 86, 51, 45, 62, 94, 41, 1, 6, 44, 6, 64, 94, 31, 15, 13, 72, 67, 44, 29, 81, 68, 97, 99, 35, 43, 61, 15, 99, 14, 49, 41, 20, 37, 43, 47, 4, 43, 1, 29, 39, 19, 25, 54, 80, 89, 40, 30, 18, 55, 44, 34, 57, 2, 47, 78, 89, 93, 51, 11, 4, 54, 48, 1, 85, 47, 34, 89, 36, 30, 23, 44, 38, 83, 64, 1, 15, 94, 39, 74, 31, 33, 59, 26, 46, 19, 94, 55, 66, 45, 36, 44, 28, 61, 58, 11, 82, 13, 45, 44, 15, 93, 56, 13, 66, 54, 60, 37, 77, 34, 51, 29, 5, 34, 81, 40, 10, 52, 57, 24, 18, 85, 79, 59, 37, 94, 16, 83, 35, 53, 23, 89, 85, 51, 97, 84, 68, 57, 60, 20, 67, 53, 51, 36, 15, 84, 58, 50, 87, 62, 56, 11, 48, 48, 17, 48, 54, 68, 59, 97, 56, 76, 63, 42, 54, 64, 69, 67, 78, 46, 68, 82, 61, 14, 73, 78, 11, 60, 71, 37, 25, 25, 8, 28, 91, 19, 78, 62, 71, 56, 20, 52, 69, 10, 37, 63, 93, 52, 29, 74, 20, 91, 45, 22, 84, 66]\n"
     ]
    }
   ],
   "source": [
    "import random\n",
    "\n",
    "# GENERATE RANDOM\n",
    "nilaiTugas = []\n",
    "for i in range(250):\n",
    "    nilaiTugas.append(random.randrange(1,100,1))\n",
    "\n",
    "print(nilaiTugas)\n",
    "\n",
    "# TAMPILKAN:\n",
    "# ganjil\n",
    "# nilai > 70\n",
    "# standar deviasi\n",
    "# maksimum\n",
    "# minimum\n",
    "# modus"
   ]
  },
  {
   "cell_type": "markdown",
   "metadata": {},
   "source": [
    "# JAWABAN"
   ]
  },
  {
   "cell_type": "markdown",
   "metadata": {},
   "source": [
    "### 1. Memunculkan nilai ganjil"
   ]
  },
  {
   "cell_type": "code",
   "execution_count": 3,
   "metadata": {},
   "outputs": [
    {
     "name": "stdout",
     "output_type": "stream",
     "text": [
      "15\n",
      "47\n",
      "91\n",
      "65\n",
      "91\n",
      "11\n",
      "53\n",
      "31\n",
      "1\n",
      "79\n",
      "73\n",
      "65\n",
      "63\n",
      "85\n",
      "33\n",
      "61\n",
      "71\n",
      "81\n",
      "75\n",
      "13\n",
      "31\n",
      "51\n",
      "29\n",
      "51\n",
      "45\n",
      "41\n",
      "1\n",
      "31\n",
      "15\n",
      "13\n",
      "67\n",
      "29\n",
      "81\n",
      "97\n",
      "99\n",
      "35\n",
      "43\n",
      "61\n",
      "15\n",
      "99\n",
      "49\n",
      "41\n",
      "37\n",
      "43\n",
      "47\n",
      "43\n",
      "1\n",
      "29\n",
      "39\n",
      "19\n",
      "25\n",
      "89\n",
      "55\n",
      "57\n",
      "47\n",
      "89\n",
      "93\n",
      "51\n",
      "11\n",
      "1\n",
      "85\n",
      "47\n",
      "89\n",
      "23\n",
      "83\n",
      "1\n",
      "15\n",
      "39\n",
      "31\n",
      "33\n",
      "59\n",
      "19\n",
      "55\n",
      "45\n",
      "61\n",
      "11\n",
      "13\n",
      "45\n",
      "15\n",
      "93\n",
      "13\n",
      "37\n",
      "77\n",
      "51\n",
      "29\n",
      "5\n",
      "81\n",
      "57\n",
      "85\n",
      "79\n",
      "59\n",
      "37\n",
      "83\n",
      "35\n",
      "53\n",
      "23\n",
      "89\n",
      "85\n",
      "51\n",
      "97\n",
      "57\n",
      "67\n",
      "53\n",
      "51\n",
      "15\n",
      "87\n",
      "11\n",
      "17\n",
      "59\n",
      "97\n",
      "63\n",
      "69\n",
      "67\n",
      "61\n",
      "73\n",
      "11\n",
      "71\n",
      "37\n",
      "25\n",
      "25\n",
      "91\n",
      "19\n",
      "71\n",
      "69\n",
      "37\n",
      "63\n",
      "93\n",
      "29\n",
      "91\n",
      "45\n"
     ]
    }
   ],
   "source": [
    "for n in nilaiTugas:\n",
    "    if n%2==1:\n",
    "        print(n)\n"
   ]
  },
  {
   "cell_type": "markdown",
   "metadata": {},
   "source": [
    "### 2. Nilai > 70"
   ]
  },
  {
   "cell_type": "code",
   "execution_count": 4,
   "metadata": {},
   "outputs": [
    {
     "name": "stdout",
     "output_type": "stream",
     "text": [
      "72\n",
      "94\n",
      "92\n",
      "91\n",
      "91\n",
      "92\n",
      "79\n",
      "73\n",
      "94\n",
      "85\n",
      "92\n",
      "71\n",
      "81\n",
      "75\n",
      "96\n",
      "72\n",
      "88\n",
      "86\n",
      "94\n",
      "94\n",
      "72\n",
      "81\n",
      "97\n",
      "99\n",
      "99\n",
      "80\n",
      "89\n",
      "78\n",
      "89\n",
      "93\n",
      "85\n",
      "89\n",
      "83\n",
      "94\n",
      "74\n",
      "94\n",
      "82\n",
      "93\n",
      "77\n",
      "81\n",
      "85\n",
      "79\n",
      "94\n",
      "83\n",
      "89\n",
      "85\n",
      "97\n",
      "84\n",
      "84\n",
      "87\n",
      "97\n",
      "76\n",
      "78\n",
      "82\n",
      "73\n",
      "78\n",
      "71\n",
      "91\n",
      "78\n",
      "71\n",
      "93\n",
      "74\n",
      "91\n",
      "84\n"
     ]
    }
   ],
   "source": [
    "for n in nilaiTugas:\n",
    "    if n>70:\n",
    "        print(n)"
   ]
  },
  {
   "cell_type": "markdown",
   "metadata": {},
   "source": [
    "### 3. Standar Deviasi"
   ]
  },
  {
   "cell_type": "code",
   "execution_count": 22,
   "metadata": {},
   "outputs": [
    {
     "name": "stdout",
     "output_type": "stream",
     "text": [
      "Rata-rata= 50.904\n",
      "Standar Deviasi= 26.383158800134083\n"
     ]
    }
   ],
   "source": [
    "jumlah= 0\n",
    "for i in range(len(nilaiTugas)):\n",
    "    jumlah+=nilaiTugas[i]   \n",
    "rata=jumlah/len(nilaiTugas)\n",
    "print(\"Rata-rata=\", rata)\n",
    "\n",
    "sigma=0\n",
    "for i in range(len(nilaiTugas)):\n",
    "    hitung=(nilaiTugas[i]-rata)**2\n",
    "    sigma+=hitung\n",
    "pembagianN=sigma/(len(nilaiTugas)-1)\n",
    "standardeviasi=pembagianN**0.5\n",
    "print(\"Standar Deviasi=\", standardeviasi)"
   ]
  },
  {
   "cell_type": "markdown",
   "metadata": {},
   "source": [
    "### 4. Nilai Maksimum"
   ]
  },
  {
   "cell_type": "code",
   "execution_count": 21,
   "metadata": {},
   "outputs": [
    {
     "name": "stdout",
     "output_type": "stream",
     "text": [
      "Nilai Maksimum adalah= 99\n"
     ]
    }
   ],
   "source": [
    "maksimum=0\n",
    "for a in nilaiTugas:\n",
    "        if a>maksimum:\n",
    "            maksimum=a\n",
    "print(\"Nilai Maksimum adalah=\", maksimum)"
   ]
  },
  {
   "cell_type": "markdown",
   "metadata": {},
   "source": [
    "### 5. Nilai Minimum"
   ]
  },
  {
   "cell_type": "code",
   "execution_count": 24,
   "metadata": {},
   "outputs": [
    {
     "name": "stdout",
     "output_type": "stream",
     "text": [
      "Nilai Minimum adalah= 0\n"
     ]
    }
   ],
   "source": [
    "minimum=0\n",
    "for b in nilaiTugas:\n",
    "    if b<minimum:\n",
    "        minimum=b\n",
    "print(\"Nilai Minimum adalah=\",minimum)"
   ]
  },
  {
   "cell_type": "markdown",
   "metadata": {},
   "source": [
    "### 6. Modus"
   ]
  },
  {
   "cell_type": "code",
   "execution_count": 46,
   "metadata": {},
   "outputs": [
    {
     "name": "stdout",
     "output_type": "stream",
     "text": [
      "94\n"
     ]
    }
   ],
   "source": [
    "modus=nilaiTugas[n]\n",
    "jumlah=nilaiTugas.count(modus)\n",
    "for n in nilaiTugas:\n",
    "    jumlah_n=nilaiTugas.count(n)\n",
    "    if jumlah_n>jumlah:\n",
    "        modus=n\n",
    "        jumlah=jumlah_n\n",
    "print(modus)"
   ]
  },
  {
   "cell_type": "code",
   "execution_count": null,
   "metadata": {},
   "outputs": [],
   "source": []
  }
 ],
 "metadata": {
  "kernelspec": {
   "display_name": "Python 3",
   "language": "python",
   "name": "python3"
  },
  "language_info": {
   "codemirror_mode": {
    "name": "ipython",
    "version": 3
   },
   "file_extension": ".py",
   "mimetype": "text/x-python",
   "name": "python",
   "nbconvert_exporter": "python",
   "pygments_lexer": "ipython3",
   "version": "3.7.0"
  }
 },
 "nbformat": 4,
 "nbformat_minor": 2
}
