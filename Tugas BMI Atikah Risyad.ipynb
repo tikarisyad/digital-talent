{
 "cells": [
  {
   "cell_type": "markdown",
   "metadata": {},
   "source": [
    "# SOAL:\n",
    "\n",
    "### Body Mass Index (BMI) menentukan sebuah keidealan berat badan terhadap tinggi badan. Berikut adalah formula dari BMI : BMI = weight (kg) ÷ height^2 (m^2)\n",
    "\n",
    "#### Berikut adalah kategorisasi BMI\n",
    "\n",
    "Kurang dari 15        : Very severely underweight\t\n",
    "Diantara 15 dan 16\t  : Severely underweight\t\n",
    "Diantara 16 dan 18.5  :\tUnderweight\t\n",
    "Diantara 18.5 dan 25  :\tNormal (healthy weight)\t\n",
    "Diantara 25 dan 30\t  : Overweight\t\n",
    "Diantara 30 dan 35\t  : Moderately obese\t\n",
    "Diantara 35 dan 40\t  : Severely obese\t\n",
    "Over 40\t              : Very severely obese\n",
    "\n",
    "### Buatlah sebuah program yang memiliki dua variabel berat badan dengan satuan KG, dan tinggi badan dengan satuan CM, kemudian keluaran dari program adalah Kategori BMI"
   ]
  },
  {
   "cell_type": "markdown",
   "metadata": {},
   "source": [
    "# JAWABAN:"
   ]
  },
  {
   "cell_type": "markdown",
   "metadata": {},
   "source": [
    "# Calculator BMI (Body Mass Index)"
   ]
  },
  {
   "cell_type": "code",
   "execution_count": 6,
   "metadata": {},
   "outputs": [
    {
     "name": "stdout",
     "output_type": "stream",
     "text": [
      "Enter your weight(kg): 64\n",
      "Enter your height(cm):160\n",
      "Your BMI:  24\n",
      "You are Normal (healthy weight)\n"
     ]
    }
   ],
   "source": [
    "weight=float(input(\"Enter your weight(kg): \"))\n",
    "heightcm=float(input(\"Enter your height(cm): \"))\n",
    "heightm=heightcm/100\n",
    "\n",
    "bmi=weight/(heightm**2)\n",
    "print(\"Your BMI: \", int(bmi))\n",
    "\n",
    "if bmi<15:\n",
    "    print(\"You are Very severely underweight\")\n",
    "elif 15 <= bmi < 16:\n",
    "    print(\"You are Severely underweight\")\n",
    "elif 16 <= bmi < 18.5:\n",
    "    print(\"You are Underweight\")\n",
    "elif 18.5 <= bmi < 25:\n",
    "    print(\"You are Normal (healthy weight)\")\n",
    "elif 25 <= bmi < 30:\n",
    "    print(\"You are Overweight\")\n",
    "elif 30 <= bmi < 35:\n",
    "    print(\"You are Moderately obese\")\n",
    "elif 35 <= bmi < 40:\n",
    "    print(\"You are Severely obese\")\n",
    "else:\n",
    "    print(\"You are Very severely obese\")"
   ]
  }
 ],
 "metadata": {
  "kernelspec": {
   "display_name": "Python 3",
   "language": "python",
   "name": "python3"
  },
  "language_info": {
   "codemirror_mode": {
    "name": "ipython",
    "version": 3
   },
   "file_extension": ".py",
   "mimetype": "text/x-python",
   "name": "python",
   "nbconvert_exporter": "python",
   "pygments_lexer": "ipython3",
   "version": "3.7.0"
  }
 },
 "nbformat": 4,
 "nbformat_minor": 2
}
